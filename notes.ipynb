{
 "cells": [
  {
   "cell_type": "code",
   "execution_count": 21,
   "metadata": {},
   "outputs": [
    {
     "name": "stdout",
     "output_type": "stream",
     "text": [
      "++=====++++=====++++=====++++=====++\n"
     ]
    },
    {
     "data": {
      "text/html": [
       "<img src=\"https://raw.githubusercontent.com/PokeAPI/sprites/master/sprites/pokemon/shiny/145.png\"/>"
      ],
      "text/plain": [
       "<IPython.core.display.Image object>"
      ]
     },
     "metadata": {},
     "output_type": "display_data"
    },
    {
     "name": "stdout",
     "output_type": "stream",
     "text": [
      "Zapdos       \n",
      "Height: 62.99 inches       \n",
      "Weight: 115.00 pounds       \n",
      "Type(s): electric, flying       \n",
      "Color: Yellow       \n",
      "Habitat: Rare       \n",
      "Shape: Wings       \n",
      "\n",
      "Information: かみなりぐもの　なかに　いると\n",
      "いわれる　でんせつの　ポケモン。\n",
      "カミナリを　じざいに　あやつる。\n",
      "\n",
      "Pokedex # 145\n",
      "\n",
      "++=====++++=====++++=====++++=====++\n"
     ]
    }
   ],
   "source": [
    "import requests\n",
    "import os\n",
    "from IPython.display import Image, display\n",
    "\n",
    "class Pokemon:\n",
    "    def __init__(self, name, height, weight, types, sprite, color, habitat, shape, flavor, dex_counter):\n",
    "        self.name = name\n",
    "        self.height = height\n",
    "        self.weight = weight\n",
    "        self.types = types\n",
    "        self.sprite = sprite\n",
    "        self.color = color\n",
    "        self.habitat = habitat\n",
    "        self.shape = shape\n",
    "        self.flavor = flavor\n",
    "        self.dex_counter = dex_counter\n",
    "\n",
    "    def __str__(self):\n",
    "        output = f\"{self.name.title()}       \\n\"\n",
    "        output += f\"Height: {self.height:.2f} inches       \\n\"\n",
    "        output += f\"Weight: {self.weight:.2f} pounds       \\n\"\n",
    "        output += f\"Type(s): {', '.join(self.types)}       \\n\"\n",
    "        # output += f\"Sprite {self.sprite}           \\n\"\n",
    "        output += f\"Color: {self.color.title()}       \\n\"\n",
    "        output += f\"Habitat: {self.habitat.title()}       \\n\"\n",
    "        output += f\"Shape: {self.shape.title()}       \\n\"\n",
    "        output += f\"\\nInformation: {self.flavor}\\n\"\n",
    "        output += f\"\\nPokedex # {self.dex_counter}\\n\"\n",
    "\n",
    "        return output\n",
    "    \n",
    "    def __repr__(self):\n",
    "        return f\"<Pokemon | {self.name}>\"\n",
    "\n",
    "\n",
    "class PokemonAPI:\n",
    "    def __init__(self):\n",
    "        self.base_url1 = \"https://pokeapi.co/api/v2/pokemon/\"\n",
    "    \n",
    "    def get_pokemon_data(self, pokemon_name):\n",
    "        res = requests.get(f\"{self.base_url1}/{pokemon_name}\")\n",
    "        if res.ok:\n",
    "            data = res.json()\n",
    "            name = data['name']\n",
    "            height = data['height']*3.937\n",
    "            weight = data['weight']//4.536\n",
    "            types = [data['types'][0]['type']['name']]\n",
    "            if len(data['types']) > 1:\n",
    "                types.append(data['types'][1]['type']['name'])\n",
    "            sprite = data['sprites']['front_shiny']\n",
    "            return name, height, weight, tuple(types), sprite\n",
    "        return None, None, None, None\n",
    "\n",
    "class SpeciesAPI:\n",
    "    def __init__(self):\n",
    "        self.base_url2 = \"https://pokeapi.co/api/v2/pokemon-species/\"\n",
    "\n",
    "    def __get_species_data(self, pokemon_name):\n",
    "        res = requests.get(f\"{self.base_url2}/{pokemon_name}\")\n",
    "        if res.ok:\n",
    "            data = res.json()\n",
    "            color = data['color']['name']\n",
    "            habitat = data['habitat']['name']\n",
    "            shape = data['shape']['name']\n",
    "            flavor = data['flavor_text_entries'][0]['flavor_text']\n",
    "            dex_counter = data['pokedex_numbers'][0]['entry_number']\n",
    "            return color, habitat, shape, flavor, dex_counter\n",
    "        return\n",
    "\n",
    "    def get_pokemon(self, pokemon_name):\n",
    "        name, height, weight, types, sprite = PokemonAPI().get_pokemon_data(pokemon_name)\n",
    "        if not name:\n",
    "            return f\"{pokemon_name.title()} isn't a POKéMON silly! Check your spelling please?\"\n",
    "        \n",
    "        color, habitat, shape, flavor, dex_counter = self.__get_species_data(pokemon_name)\n",
    "\n",
    "        new_pokemon = Pokemon(name, height, weight, types, sprite, color, habitat, shape, flavor, dex_counter)\n",
    "        return new_pokemon\n",
    "\n",
    "os.system(\"cls\" if os.name == \"nt\" else \"clear\")\n",
    "pokemon_name = input(\"Please choose a POKéMON and I will provide some stats and useful information. :)\\n\\n \")\n",
    "os.system(\"cls\" if os.name == \"nt\" else \"clear\")\n",
    "\n",
    "pokemon1 = SpeciesAPI()\n",
    "new = pokemon1.get_pokemon(pokemon_name)\n",
    "output = str(new)\n",
    "\n",
    "print(\"++=====++\" * 4) \n",
    "if new.sprite:\n",
    "    display(Image(url=new.sprite))       \n",
    "print(output)\n",
    "print(\"++=====++\" * 4)"
   ]
  },
  {
   "cell_type": "code",
   "execution_count": null,
   "metadata": {},
   "outputs": [],
   "source": []
  }
 ],
 "metadata": {
  "kernelspec": {
   "display_name": "Python 3",
   "language": "python",
   "name": "python3"
  },
  "language_info": {
   "codemirror_mode": {
    "name": "ipython",
    "version": 3
   },
   "file_extension": ".py",
   "mimetype": "text/x-python",
   "name": "python",
   "nbconvert_exporter": "python",
   "pygments_lexer": "ipython3",
   "version": "3.11.4"
  },
  "orig_nbformat": 4
 },
 "nbformat": 4,
 "nbformat_minor": 2
}
